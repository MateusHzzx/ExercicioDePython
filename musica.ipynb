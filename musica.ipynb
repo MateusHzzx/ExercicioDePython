{
 "cells": [
  {
   "cell_type": "code",
   "execution_count": 4,
   "metadata": {},
   "outputs": [
    {
     "ename": "ModuleNotFoundError",
     "evalue": "No module named 'pygame'",
     "output_type": "error",
     "traceback": [
      "\u001b[1;31m---------------------------------------------------------------------------\u001b[0m",
      "\u001b[1;31mModuleNotFoundError\u001b[0m                       Traceback (most recent call last)",
      "Cell \u001b[1;32mIn[4], line 1\u001b[0m\n\u001b[1;32m----> 1\u001b[0m \u001b[38;5;28;01mimport\u001b[39;00m \u001b[38;5;21;01mpygame\u001b[39;00m;\n\u001b[0;32m      3\u001b[0m \u001b[38;5;28;01mdef\u001b[39;00m \u001b[38;5;21mplay_music\u001b[39m(file_path):\n\u001b[0;32m      4\u001b[0m     pygame\u001b[38;5;241m.\u001b[39minit()\n",
      "\u001b[1;31mModuleNotFoundError\u001b[0m: No module named 'pygame'"
     ]
    }
   ],
   "source": [
    "import pygame;\n",
    "\n",
    "def play_music(file_path):\n",
    "    pygame.init()\n",
    "\n",
    "    try:\n",
    "        pygame.mixer.music.load(file_path)\n",
    "        pygame.mixer.music.play()\n",
    "        while pygame.mixer.music.get_busy():\n",
    "            pygame.time.Clock().tick(10)\n",
    "\n",
    "    except pygame.error as e:\n",
    "        print(\"Unable to play music:\", e)\n",
    "\n",
    "    finally:\n",
    "        pygame.mixer.music.stop()\n",
    "        pygame.quit()\n",
    "\n",
    "if __name__ == \"__main__\":\n",
    "    music_file_path = \"path/to/your/music/file.mp3\"\n",
    "\n",
    "    play_music(music_file_path)"
   ]
  }
 ],
 "metadata": {
  "kernelspec": {
   "display_name": "Python 3",
   "language": "python",
   "name": "python3"
  },
  "language_info": {
   "codemirror_mode": {
    "name": "ipython",
    "version": 3
   },
   "file_extension": ".py",
   "mimetype": "text/x-python",
   "name": "python",
   "nbconvert_exporter": "python",
   "pygments_lexer": "ipython3",
   "version": "3.12.0"
  }
 },
 "nbformat": 4,
 "nbformat_minor": 2
}
